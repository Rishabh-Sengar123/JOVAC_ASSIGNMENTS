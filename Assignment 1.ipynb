{
 "cells": [
  {
   "cell_type": "code",
   "execution_count": 1,
   "id": "289bd100",
   "metadata": {},
   "outputs": [
    {
     "name": "stdout",
     "output_type": "stream",
     "text": [
      "CSV written successfully.\n",
      "Read CSV:\n",
      "['Name', 'Age', 'City']\n",
      "['Rishabh', '21', 'Mathura']\n",
      "['Aryan', '20', 'Delhi']\n",
      "['Sneha', '22', 'Mumbai']\n"
     ]
    }
   ],
   "source": [
    "import csv\n",
    "\n",
    "\n",
    "class CSVFormatException(Exception):\n",
    "    def __init__(self, message):\n",
    "        super().__init__(message)\n",
    "\n",
    "\n",
    "data = [\n",
    "    [\"Name\", \"Age\", \"City\"],\n",
    "    [\"Rishabh\", \"21\", \"Mathura\"],\n",
    "    [\"Aryan\", \"20\", \"Delhi\"],\n",
    "    [\"Sneha\", \"22\", \"Mumbai\"]\n",
    "]\n",
    "\n",
    "filename = \"rishabhdata.csv\"\n",
    "\n",
    "\n",
    "def write_csv(filename, data):\n",
    "    with open(filename, mode='w', newline='') as file:\n",
    "        writer = csv.writer(file)\n",
    "        for row in data:\n",
    "            writer.writerow(row)\n",
    "\n",
    "\n",
    "def read_csv(filename):\n",
    "    read_data = []\n",
    "    with open(filename, mode='r') as file:\n",
    "        reader = csv.reader(file)\n",
    "        column_count = None\n",
    "        for row in reader:\n",
    "            if column_count is None:\n",
    "                column_count = len(row)\n",
    "            elif len(row) != column_count:\n",
    "                raise CSVFormatException(\"Inconsistent number of columns in row.\")\n",
    "            read_data.append(row)\n",
    "    return read_data\n",
    "\n",
    "\n",
    "try:\n",
    "    write_csv(filename, data)\n",
    "    print(\"CSV written successfully.\")\n",
    "\n",
    "    result = read_csv(filename)\n",
    "    print(\"Read CSV:\")\n",
    "    for row in result:\n",
    "        print(row)\n",
    "\n",
    "except CSVFormatException as e:\n",
    "    print(\"CSV Format Error:\", e)\n",
    "except Exception as e:\n",
    "    print(\"Error:\", e)\n"
   ]
  },
  {
   "cell_type": "code",
   "execution_count": null,
   "id": "c02ca673",
   "metadata": {},
   "outputs": [],
   "source": []
  }
 ],
 "metadata": {
  "kernelspec": {
   "display_name": "Python 3 (ipykernel)",
   "language": "python",
   "name": "python3"
  },
  "language_info": {
   "codemirror_mode": {
    "name": "ipython",
    "version": 3
   },
   "file_extension": ".py",
   "mimetype": "text/x-python",
   "name": "python",
   "nbconvert_exporter": "python",
   "pygments_lexer": "ipython3",
   "version": "3.10.9"
  }
 },
 "nbformat": 4,
 "nbformat_minor": 5
}
